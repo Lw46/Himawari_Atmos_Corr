{
 "cells": [
  {
   "cell_type": "raw",
   "id": "af10e7d0-1fff-42dd-af0f-eb9c48efa1e3",
   "metadata": {},
   "source": [
    "# CAMSRA Downloader\n",
    "# Please download \"ATMOSPHERIC PARAMETER\" and \"AEROSOL PARAMETER\" in different folader"
   ]
  },
  {
   "cell_type": "markdown",
   "id": "98544b0e-f24c-4af6-9256-3d5e63726c14",
   "metadata": {},
   "source": [
    "# CAMSRA-EAC4"
   ]
  },
  {
   "cell_type": "code",
   "execution_count": null,
   "id": "fe891dd5",
   "metadata": {
    "tags": []
   },
   "outputs": [],
   "source": [
    "import cdsapi\n",
    "import os\n",
    "from datetime import datetime, timedelta\n",
    "\n",
    "\n",
    "# Set Download parameter\n",
    "\n",
    "# ATMOSPHERIC PARAMETER\n",
    "DATA_TYPE = ['total_column_ozone', 'total_column_water_vapour','total_aerosol_optical_depth_550nm']\n",
    "\n",
    "# AEROSOL PARAMETER\n",
    "# DATE_TYPE = ['black_carbon_aerosol_optical_depth_550nm', 'dust_aerosol_optical_depth_550nm', 'organic_matter_aerosol_optical_depth_550nm',\n",
    "#             'sea_salt_aerosol_optical_depth_550nm', 'sulphate_aerosol_optical_depth_550nm']\n",
    "TIME_RANGE = ['00:00', '03:00', '06:00', '09:00', '12:00', '15:00', '18:00', '21:00','00:00']\n",
    "STORAGE_FOLDER = '/media/liwei/Data/CAMS'\n",
    "def CAMS_download(v_type, d_range, t_range, nc_path):\n",
    "    try:\n",
    "        c = cdsapi.Client()\n",
    "        c.retrieve(\n",
    "            'cams-global-reanalysis-eac4', {\n",
    "                'variable': v_type,\n",
    "                'date': d_range,\n",
    "                'time': t_range,\n",
    "                'format': 'netcdf',\n",
    "            }, nc_path)\n",
    "    except Exception as e:\n",
    "        print('Error: ' + nc_path)\n",
    "        print(e)\n",
    "        \n",
    "if __name__ == \"__main__\":\n",
    "    \n",
    "    # Set date range\n",
    "    date_start = '2021-01-01'\n",
    "    date_end = '2021-12-31'\n",
    "    \n",
    "    \n",
    "    date_s = datetime.strptime(date_start, \"%Y-%m-%d\")\n",
    "    date_t = timedelta(days=1)\n",
    "    date_e = datetime.strptime(date_end, \"%Y-%m-%d\")\n",
    "    date_dl = date_s\n",
    "    while date_dl <= date_e:\n",
    "        date_dl_str = date_dl.strftime(\"%Y-%m-%d\")\n",
    "        data_range = date_dl_str + '/' + date_dl_str\n",
    "        file_path = date_dl.strftime(\"%Y%m%d\") + '.nc'\n",
    "        CAMS_download(DATA_TYPE, data_range, TIME_RANGE, os.path.join(STORAGE_FOLDER, file_path))\n",
    "        date_dl = date_dl + date_t"
   ]
  },
  {
   "cell_type": "markdown",
   "id": "70b2a4fa-f5f8-449f-953c-058f3cc22495",
   "metadata": {},
   "source": [
    "# ERA5"
   ]
  },
  {
   "cell_type": "code",
   "execution_count": null,
   "id": "5e6cf63a-9f77-4e9a-9357-bf1223a2dc27",
   "metadata": {
    "tags": []
   },
   "outputs": [],
   "source": [
    "import cdsapi\n",
    "import os\n",
    "from datetime import datetime, timedelta\n",
    "\n",
    "# Set Download parameter\n",
    "\n",
    "DATA_TYPE = ['total_column_ozone', 'total_column_water_vapour']\n",
    "\n",
    "TIME_RANGE = ['00:00', '01:00', '02:00', '03:00', '04:00', '05:00', '06:00', '07:00','08:00','09:00','10:00','11:00','12:00','13:00','14:00','15:00','16:00','17:00','18:00','19:00','20:00','21:00','22:00','23:00']\n",
    "STORAGE_FOLDER = '/data01/people/liwei/Data/ERA5'\n",
    "def EAR5_download(v_type, y,m,d, t_range, nc_path):\n",
    "    try:\n",
    "        c = cdsapi.Client()\n",
    "        c.retrieve(\n",
    "            'reanalysis-era5-single-levels', {\n",
    "                'product_type': 'reanalysis',\n",
    "                'variable': v_type,\n",
    "                'year': y,\n",
    "                'month': m,\n",
    "                'day': d,\n",
    "                'time': t_range,\n",
    "                'format': 'netcdf',\n",
    "            }, nc_path)\n",
    "    except Exception as e:\n",
    "        print('Error: ' + nc_path)\n",
    "        print(e)\n",
    "        \n",
    "if __name__ == \"__main__\":\n",
    "    \n",
    "    # Set date range\n",
    "    date_start = '2023-01-01'\n",
    "    date_end = '2023-12-31'\n",
    "    \n",
    "    \n",
    "    date_s = datetime.strptime(date_start, \"%Y-%m-%d\")\n",
    "    date_t = timedelta(days=1)\n",
    "    date_e = datetime.strptime(date_end, \"%Y-%m-%d\")\n",
    "    date_dl = date_s\n",
    "    while date_dl <= date_e:\n",
    "        date_dl_str = date_dl.strftime(\"%Y-%m-%d\")\n",
    "        data_range = date_dl_str + '/' + date_dl_str\n",
    "        file_path = date_dl.strftime(\"%Y%m%d\") + '.nc'\n",
    "        print(file_path)\n",
    "        EAR5_download(DATA_TYPE, date_dl.strftime(\"%Y\"),date_dl.strftime(\"%m\"),date_dl.strftime(\"%d\"), TIME_RANGE, os.path.join(STORAGE_FOLDER, file_path))\n",
    "        date_dl = date_dl + date_t"
   ]
  }
 ],
 "metadata": {
  "kernelspec": {
   "display_name": "Python 3 (ipykernel)",
   "language": "python",
   "name": "python3"
  },
  "language_info": {
   "codemirror_mode": {
    "name": "ipython",
    "version": 3
   },
   "file_extension": ".py",
   "mimetype": "text/x-python",
   "name": "python",
   "nbconvert_exporter": "python",
   "pygments_lexer": "ipython3",
   "version": "3.9.13"
  }
 },
 "nbformat": 4,
 "nbformat_minor": 5
}
