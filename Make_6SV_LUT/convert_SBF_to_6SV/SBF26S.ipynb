{
 "cells": [
  {
   "cell_type": "code",
   "execution_count": 5,
   "id": "d984d13a-3047-424f-833e-abb186d768d1",
   "metadata": {
    "tags": []
   },
   "outputs": [],
   "source": [
    "import numpy as np\n",
    "from scipy.interpolate import interp1d"
   ]
  },
  {
   "cell_type": "code",
   "execution_count": 6,
   "id": "124b315f-25c4-4acd-8fb2-634efc6914d8",
   "metadata": {
    "tags": []
   },
   "outputs": [],
   "source": [
    "Band = 'Band01'\n",
    "SRF_ORG = np.loadtxt(\"{}.txt\".format(Band),delimiter=\" \")"
   ]
  },
  {
   "cell_type": "code",
   "execution_count": 3,
   "id": "8dc1633c-4bd8-431d-aedb-15238c2d472b",
   "metadata": {
    "tags": []
   },
   "outputs": [],
   "source": [
    "WL = SRF_ORG[:,0]\n",
    "SRF = SRF_ORG[:,1] / 100\n",
    "f = interp1d(WL, SRF, kind='linear')\n",
    "WL_new = np.arange(WL.min(),WL.max(),0.0025)\n",
    "SRF_new = f(WL_new)\n",
    "SRF_INTER = np.stack((WL_new, SRF_new),axis=1)\n",
    "np.savetxt(\"./6SV/{}.csv\".format(Band), SRF_INTER, delimiter=\",\")"
   ]
  }
 ],
 "metadata": {
  "kernelspec": {
   "display_name": "Python 3 (ipykernel)",
   "language": "python",
   "name": "python3"
  },
  "language_info": {
   "codemirror_mode": {
    "name": "ipython",
    "version": 3
   },
   "file_extension": ".py",
   "mimetype": "text/x-python",
   "name": "python",
   "nbconvert_exporter": "python",
   "pygments_lexer": "ipython3",
   "version": "3.9.17"
  }
 },
 "nbformat": 4,
 "nbformat_minor": 5
}
